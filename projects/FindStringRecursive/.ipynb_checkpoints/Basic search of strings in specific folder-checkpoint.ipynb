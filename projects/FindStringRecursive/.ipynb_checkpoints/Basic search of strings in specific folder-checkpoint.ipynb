{
 "cells": [
  {
   "cell_type": "markdown",
   "metadata": {},
   "source": [
    "In this notebook we will implement basic string search in multiple files. It is useful to search multiple strings in multiple files that are stored in specific folder. By using module os and function os.walk we can recursively access subdirectories. Matching of strings is implemented by simple python comparison with in statement. \n",
    "\n",
    "This is probably different from other solutions, which use regular expressions. Regular expressions are quite powerful way to compare strings, but they can be problematic when you need to rewrite them. If you need to find simple way to find strings in files it is quite unnecessary to use regular expressions in your solution and simple comparison function can be implemented.\n",
    "\n",
    "Output of this search will be saved in xlsx format by Pandas. Excel file will contain file name where string is located, string expression that is searched in files, line number where this expression is located and full line of text where the searched expression is located."
   ]
  },
  {
   "cell_type": "markdown",
   "metadata": {},
   "source": [
    "Importing python modules."
   ]
  },
  {
   "cell_type": "code",
   "execution_count": 1,
   "metadata": {},
   "outputs": [],
   "source": [
    "import os\n",
    "import codecs\n",
    "import pandas as pd"
   ]
  },
  {
   "cell_type": "markdown",
   "metadata": {},
   "source": [
    "Defining empty list that will contain filenames of all files that will be subjected to search."
   ]
  },
  {
   "cell_type": "code",
   "execution_count": 2,
   "metadata": {},
   "outputs": [],
   "source": [
    "file_paths = []"
   ]
  },
  {
   "cell_type": "markdown",
   "metadata": {},
   "source": [
    "Definition of folder where files and subfolders are located.\n",
    "\n",
    "Set output of xlsx file, that will contain output of search."
   ]
  },
  {
   "cell_type": "code",
   "execution_count": 3,
   "metadata": {},
   "outputs": [],
   "source": [
    "rootdir = './InputDirectory'\n",
    "outputfile = './OutputFiles/Export.xlsx'"
   ]
  },
  {
   "cell_type": "markdown",
   "metadata": {},
   "source": [
    "Assigning variable that contain strings to be used in search.\n",
    "\n",
    "Input value will be string, that can contain multiple values delimitated by ~ character. In later stage we will create list of strings to be used in search."
   ]
  },
  {
   "cell_type": "code",
   "execution_count": 4,
   "metadata": {},
   "outputs": [],
   "source": [
    "input_expression = 'code~new'"
   ]
  },
  {
   "cell_type": "markdown",
   "metadata": {},
   "source": [
    "In this part we will use function os.walk to extract absolute paths of files that are used in search process."
   ]
  },
  {
   "cell_type": "code",
   "execution_count": 5,
   "metadata": {},
   "outputs": [],
   "source": [
    "for folder, subs, files in os.walk(rootdir):\n",
    "      for filename in files:\n",
    "        file_paths.append(os.path.abspath(os.path.join(folder, filename)))"
   ]
  },
  {
   "cell_type": "markdown",
   "metadata": {},
   "source": [
    "Requesting user input in order to specify if they want to perform case insensitive or case sensitive comparison. If the case sensitive solution is selected, then strings used in search are converted to upper format. This will also be applied to lines of text loaded from files."
   ]
  },
  {
   "cell_type": "code",
   "execution_count": 6,
   "metadata": {},
   "outputs": [
    {
     "name": "stdout",
     "output_type": "stream",
     "text": [
      "If you want to test in case insensitive way enter 1 : 1\n"
     ]
    }
   ],
   "source": [
    "case_sensitive = int(input('If you want to test in case insensitive way enter 1 : '))\n",
    "\n",
    "if case_sensitive == 1:\n",
    "    input_expression = input_expression.upper()"
   ]
  },
  {
   "cell_type": "markdown",
   "metadata": {},
   "source": [
    "Splitting searched string into list by ~ character."
   ]
  },
  {
   "cell_type": "code",
   "execution_count": 7,
   "metadata": {},
   "outputs": [],
   "source": [
    "test_expressions = input_expression.split('~')"
   ]
  },
  {
   "cell_type": "markdown",
   "metadata": {},
   "source": [
    "Assigning empty lists that will be filled by file names, line numbers, lines of text that contain searched expression and string search expression."
   ]
  },
  {
   "cell_type": "code",
   "execution_count": 8,
   "metadata": {},
   "outputs": [],
   "source": [
    "containing_file = []\n",
    "line_numbers = []\n",
    "expression_text = []\n",
    "filtered_value = []"
   ]
  },
  {
   "cell_type": "markdown",
   "metadata": {},
   "source": [
    "This part of the script does most of the work in searching the expressions in selected files.\n",
    "\n",
    "First for loop goes throe list of the strings that we are searching. This list was constructed by splitting input string.\n",
    "\n",
    "Second loop is used for opening files that we have appended to list using os.walk function.\n",
    "\n",
    "Final loop is used for going throe file line by line and finding matches between current string and line of text. If there is a match than we will populate lists with filename, line number, full line of text and searched string into previously defined lists."
   ]
  },
  {
   "cell_type": "code",
   "execution_count": 9,
   "metadata": {},
   "outputs": [],
   "source": [
    "for test_expression in test_expressions:\n",
    "    for file in file_paths: \n",
    "            infile = codecs.open(file,'r','utf-8')\n",
    "            line_number = 1\n",
    "\n",
    "            for line in infile.readlines():\n",
    "                if case_sensitive == 1:\n",
    "                    line = line.upper()\n",
    "                else:\n",
    "                    line = line\n",
    "                if test_expression in line:                    \n",
    "                    containing_file.append(file)\n",
    "                    line_numbers.append(line_number)\n",
    "                    expression_text.append(line)\n",
    "                    filtered_value.append(test_expression)\n",
    "                    \n",
    "                line_number+=1\n",
    "                                     \n",
    "            infile.close()"
   ]
  },
  {
   "cell_type": "code",
   "execution_count": 10,
   "metadata": {},
   "outputs": [
    {
     "data": {
      "text/plain": [
       "['CODE', 'NEW']"
      ]
     },
     "execution_count": 10,
     "metadata": {},
     "output_type": "execute_result"
    }
   ],
   "source": [
    "test_expressions"
   ]
  },
  {
   "cell_type": "markdown",
   "metadata": {},
   "source": [
    "This is the part where we create Pandas dataframe which will be used for export into xlsx file."
   ]
  },
  {
   "cell_type": "code",
   "execution_count": 11,
   "metadata": {},
   "outputs": [],
   "source": [
    "output_search = pd.DataFrame({'File': containing_file,'Searched text': filtered_value,'Line in file': line_numbers, 'Found experession': expression_text})"
   ]
  },
  {
   "cell_type": "markdown",
   "metadata": {},
   "source": [
    "Final part of the script where we export all information gathered in previous for loops into xlsx file."
   ]
  },
  {
   "cell_type": "code",
   "execution_count": 12,
   "metadata": {},
   "outputs": [],
   "source": [
    "output_search.to_excel(outputfile, sheet_name='OutputText', index=False)"
   ]
  }
 ],
 "metadata": {
  "kernelspec": {
   "display_name": "Python 3",
   "language": "python",
   "name": "python3"
  },
  "language_info": {
   "codemirror_mode": {
    "name": "ipython",
    "version": 3
   },
   "file_extension": ".py",
   "mimetype": "text/x-python",
   "name": "python",
   "nbconvert_exporter": "python",
   "pygments_lexer": "ipython3",
   "version": "3.6.7"
  }
 },
 "nbformat": 4,
 "nbformat_minor": 2
}
