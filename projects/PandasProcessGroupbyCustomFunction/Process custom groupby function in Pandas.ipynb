{
 "cells": [
  {
   "cell_type": "markdown",
   "metadata": {},
   "source": [
    "# Processing of multiple levels of groupby for custom function in Pandas"
   ]
  },
  {
   "cell_type": "markdown",
   "metadata": {},
   "source": [
    "Main goal of this project is to calculate custom function from values in the list of group values. \n",
    "\n",
    "Grouping of values is done on multiple variables (levels), from which we can say that some variables are stable and some will change during the execution.\n",
    "\n",
    "For example in this we will use function to calculate market concentrations Herfindahl-Hirschman Index (https://www.investopedia.com/terms/h/hhi.asp) for multiple business days, country of residence, issuer code, rating value and face amount of held assets. This is only an example and you can use this script to create grouped values in the lists, that are then passed into custom or existing function.\n",
    "\n",
    "Script uses data that are stored in XLSX format file InputConfiguration.xlsx in data folder.\n",
    "\n",
    "Source data are stored in two sheets: \n",
    "\n",
    "-\tInputData sheet - contains basic data used in calculation. These are atomic data that will be grouped in function\n",
    "-\tConfiguration sheet – contains information on ways to aggregate data and which variable is going to be    aggregated. For this example we will sum variable by selected groups.\n",
    "\n",
    "Configuration sheet has two columns that lists variable and variable types. \n",
    "\n",
    "Variables sheet is only a list of variables and types to be used in calculation.\n",
    "\n",
    "VariableTypes defines parameters for aggregation. \n",
    "\n",
    "In current example we will fix BusinessDay and CountryOfResidence as static variables by adding StaticLevel in VariableTypes.\n",
    "\n",
    "IssuerCode and RatingValue are going to be used for partial grouping and iterating over to produce lists of values to be put into custom function. \n",
    "\n",
    "NominalValue is aggregation variable and it is necessary to add value Variable in ValueTypes.\n",
    "\n",
    "Following code will create output file which contains calculated HHI index for each business date, counterparty, issuer codes and ratings.\n"
   ]
  },
  {
   "cell_type": "code",
   "execution_count": 1,
   "metadata": {},
   "outputs": [],
   "source": [
    "import pandas as pd"
   ]
  },
  {
   "cell_type": "markdown",
   "metadata": {},
   "source": [
    "Importing data sheet and configuration data from XLSX file."
   ]
  },
  {
   "cell_type": "code",
   "execution_count": 2,
   "metadata": {},
   "outputs": [],
   "source": [
    "base_data = pd.read_excel('./data/InputAndConfiguration.xlsx', sheet_name = 'InputData')\n",
    "\n",
    "configuration = pd.read_excel('./data/InputAndConfiguration.xlsx', sheet_name = 'Configuration')"
   ]
  },
  {
   "cell_type": "markdown",
   "metadata": {},
   "source": [
    "Creating lists of variables in static and dynamic levels in order to be used in iteration in for loop. Also aggregation variable will be assigned from VariableType Variable.\n",
    "\n",
    "Script will raise errors if we don’t provide correct parameters:\n",
    "\n",
    "-\tIn current mode program only expects one variable to be used for aggregation and it raises error if there are more than 1 variable,\n",
    "\n",
    "-\tWe must enter at least one static and dynamic level\n",
    "\n",
    "-\tCurrent script only expects only 4 levels of static levels.in case that you need more static levels, there is a possibility to extend functionality in for loop, by adding new elif statements (this will be mentioned when the part of the program is reached).\n",
    "\n",
    "For creating lists from Pandas dataframes we use .values.to_list() function.\n"
   ]
  },
  {
   "cell_type": "code",
   "execution_count": 3,
   "metadata": {},
   "outputs": [],
   "source": [
    "static_level = configuration[configuration['VariableType'] == 'StaticLevel']['Variables'].values.tolist()\n",
    "\n",
    "dynamic_level = configuration[configuration['VariableType'] == 'IterableLevel']['Variables'].values.tolist()\n",
    "\n",
    "if len(configuration[configuration['VariableType'] == 'Variable']['Variables'].values.tolist()) != 1:\n",
    "    raise Exception('Script is implemented for one summing variable check Configuration sheet and VariableType in Variable class.')\n",
    "else:\n",
    "    aggregation_variable = configuration[configuration['VariableType'] == 'Variable']['Variables'].values.tolist()[0]\n",
    "\n",
    "if len(static_level) == 0:\n",
    "    raise Exception('You have to enter at least one level that will not be changed in summing in calculation')\n",
    "    \n",
    "if len(dynamic_level) == 0:\n",
    "    raise Exception('You have to enter at least one or more levels that will be changed in calculation')\n",
    "\n",
    "if len(static_level) > 4:\n",
    "    raise Exception('Current function is implemented only for 4 levels of static variables. You can extend this to more levels in script.')"
   ]
  },
  {
   "cell_type": "markdown",
   "metadata": {},
   "source": [
    "Defining hhi_index function."
   ]
  },
  {
   "cell_type": "code",
   "execution_count": 4,
   "metadata": {},
   "outputs": [],
   "source": [
    "def hhi_index(input_variables):\n",
    "    \"\"\"\n",
    "    Function takes list of integers as input parameter input_variables.\n",
    "    input_variables - List of aggregated values by groups performed by groupby function. \n",
    "    \n",
    "    Function returns value of HHI index calculated according to https://www.investopedia.com/terms/h/hhi.asp\n",
    "    \"\"\"\n",
    "    s1 = sum(input_variables)\n",
    "    out = [pow(g/s1*100,2) for g in input_variables]\n",
    "    return round(sum(out),0)"
   ]
  },
  {
   "cell_type": "markdown",
   "metadata": {},
   "source": [
    "Converting all levels of grouping variables to string, this part is not necessary, but sometimes it is easier to work with strings that other datatypes."
   ]
  },
  {
   "cell_type": "code",
   "execution_count": 5,
   "metadata": {},
   "outputs": [],
   "source": [
    "for strdata in static_level+dynamic_level:\n",
    "    base_data[strdata] = base_data[strdata].astype(str)"
   ]
  },
  {
   "cell_type": "markdown",
   "metadata": {},
   "source": [
    "Assigning two lists in order to store groups for aggregation and list which will contain results of calculation.\n",
    "\n",
    "list_loop -        list of variables used for grouping\n",
    "output_variables - list that will contain output calculation of HHI index and other grouping levels"
   ]
  },
  {
   "cell_type": "code",
   "execution_count": 6,
   "metadata": {},
   "outputs": [],
   "source": [
    "loop_list = []\n",
    "output_variables = []"
   ]
  },
  {
   "cell_type": "markdown",
   "metadata": {},
   "source": [
    "This part aggregates static and dynamic levels using groupby function in for loop. For loop goes thru dynamic level list and aggregates static levels plus one dynamic level.\n",
    "\n",
    "Inner loop is triggered in if elif statements. These conditional statements check number of static variables and use them in creating structure used for looping thru multi-index. In constructing this solution I have used solution described in https://stackoverflow.com/questions/34139121/how-to-iterate-over-multiindex-levels-in-pandas/34139354\n",
    "\n",
    "Trick is to get one level less than there are variables used in groupby function. This will return list of grouped variables, that will be passed into hhi_index function.\n",
    "\n",
    "In case that you need more that 4 static levels, you need to add more elif statements and add index levels. Example\n",
    "\n",
    "elif len(static_level) == 5:\n",
    "        for idx, sel in looping_groupby.groupby(level = [0,1,2,3,4]):\n",
    "            output_variables.append([idx[0], idx[1], idx[2], idx[3], idx[4], looping_group, hhi_index(list(sel))])\n"
   ]
  },
  {
   "cell_type": "code",
   "execution_count": 7,
   "metadata": {},
   "outputs": [],
   "source": [
    "for looping_group in dynamic_level:\n",
    "    loop_list = static_level.copy()\n",
    "    loop_list.append(looping_group)\n",
    "\n",
    "    looping_groupby = base_data.groupby(loop_list)[aggregation_variable].sum()\n",
    "    \n",
    "    if len(static_level) == 1:\n",
    "        for idx, sel in looping_groupby.groupby(level = [0]):\n",
    "            output_variables.append([idx[0], looping_group, hhi_index(list(sel))])\n",
    "        \n",
    "    elif len(static_level) == 2:\n",
    "        for idx, sel in looping_groupby.groupby(level = [0,1]):\n",
    "            output_variables.append([idx[0], idx[1], looping_group, hhi_index(list(sel))])\n",
    "        \n",
    "    elif len(static_level) == 3:\n",
    "        for idx, sel in looping_groupby.groupby(level = [0,1,2]):\n",
    "            output_variables.append([idx[0], idx[1], idx[2], looping_group, hhi_index(list(sel))])\n",
    "            \n",
    "    elif len(static_level) == 4:\n",
    "        for idx, sel in looping_groupby.groupby(level = [0,1,2,3]):\n",
    "            output_variables.append([idx[0], idx[1], idx[2], idx[3], looping_group, hhi_index(list(sel))])"
   ]
  },
  {
   "cell_type": "markdown",
   "metadata": {},
   "source": [
    "Create column names for output dataframe."
   ]
  },
  {
   "cell_type": "code",
   "execution_count": 8,
   "metadata": {},
   "outputs": [],
   "source": [
    "column_names = static_level + ['Variable level'] + ['Calculated Function']"
   ]
  },
  {
   "cell_type": "markdown",
   "metadata": {},
   "source": [
    "Create dataframe from list of values calculated in loop and assign column names from list column_names."
   ]
  },
  {
   "cell_type": "code",
   "execution_count": 9,
   "metadata": {},
   "outputs": [],
   "source": [
    "output_dataframe = pd.DataFrame(output_variables, columns = column_names)"
   ]
  },
  {
   "cell_type": "markdown",
   "metadata": {},
   "source": [
    "Output dataframe to XLSX file."
   ]
  },
  {
   "cell_type": "code",
   "execution_count": 10,
   "metadata": {},
   "outputs": [],
   "source": [
    "output_dataframe.to_excel('./data/Output.xlsx', index = False)"
   ]
  }
 ],
 "metadata": {
  "kernelspec": {
   "display_name": "Python 3",
   "language": "python",
   "name": "python3"
  },
  "language_info": {
   "codemirror_mode": {
    "name": "ipython",
    "version": 3
   },
   "file_extension": ".py",
   "mimetype": "text/x-python",
   "name": "python",
   "nbconvert_exporter": "python",
   "pygments_lexer": "ipython3",
   "version": "3.6.7"
  }
 },
 "nbformat": 4,
 "nbformat_minor": 2
}
